{
 "cells": [
  {
   "cell_type": "code",
   "execution_count": 1,
   "metadata": {},
   "outputs": [],
   "source": [
    "import numpy as np\n",
    "from scipy.special import expit"
   ]
  },
  {
   "cell_type": "code",
   "execution_count": 23,
   "metadata": {},
   "outputs": [
    {
     "name": "stdout",
     "output_type": "stream",
     "text": [
      "[1.0, 0.9999999999999998, 9.625694398192394e-11]\n"
     ]
    }
   ],
   "source": [
    "inputs = [\n",
    "    12,\n",
    "    6,\n",
    "    -4\n",
    "]\n",
    "\n",
    "weights = [\n",
    "    1.45,\n",
    "    -0.414,\n",
    "    5.23\n",
    "]\n",
    "\n",
    "biases = [\n",
    "    -1,\n",
    "    -1,\n",
    "    2\n",
    "]\n",
    "\n",
    "a0 = expit(inputs[0] * weights[0] + inputs[0] * weights[1] + inputs[0] * weights[2] + biases[0])\n",
    "a1 = expit(inputs[1] * weights[0] + inputs[1] * weights[1] + inputs[1] * weights[2] + biases[1])\n",
    "a2 = expit(inputs[2] * weights[0] + inputs[2] * weights[1] + inputs[2] * weights[2] + biases[2])\n",
    "\n",
    "print([a0, a1, a2])"
   ]
  },
  {
   "cell_type": "code",
   "execution_count": 39,
   "metadata": {},
   "outputs": [
    {
     "data": {
      "text/plain": [
       "array([[12],\n",
       "       [ 6],\n",
       "       [-4]])"
      ]
     },
     "execution_count": 39,
     "metadata": {},
     "output_type": "execute_result"
    }
   ],
   "source": [
    "l_inputs = np.array(inputs)\n",
    "l_inputs = np.reshape(l_inputs, (np.size(l_inputs),1))\n",
    "l_inputs"
   ]
  },
  {
   "cell_type": "code",
   "execution_count": 40,
   "metadata": {},
   "outputs": [
    {
     "data": {
      "text/plain": [
       "array([[-1],\n",
       "       [-1],\n",
       "       [ 2]])"
      ]
     },
     "execution_count": 40,
     "metadata": {},
     "output_type": "execute_result"
    }
   ],
   "source": [
    "l_biases = np.array(biases)\n",
    "l_biases = np.reshape(l_biases, (np.size(l_biases),1))\n",
    "l_biases"
   ]
  },
  {
   "cell_type": "code",
   "execution_count": 42,
   "metadata": {},
   "outputs": [
    {
     "data": {
      "text/plain": [
       "[[1.45, -0.414, 5.23], [1.45, -0.414, 5.23], [1.45, -0.414, 5.23]]"
      ]
     },
     "execution_count": 42,
     "metadata": {},
     "output_type": "execute_result"
    }
   ],
   "source": [
    "l_weights = [weights, weights, weights]\n",
    "l_weights"
   ]
  },
  {
   "cell_type": "code",
   "execution_count": null,
   "metadata": {},
   "outputs": [],
   "source": []
  }
 ],
 "metadata": {
  "kernelspec": {
   "display_name": "Python 3",
   "language": "python",
   "name": "python3"
  },
  "language_info": {
   "codemirror_mode": {
    "name": "ipython",
    "version": 3
   },
   "file_extension": ".py",
   "mimetype": "text/x-python",
   "name": "python",
   "nbconvert_exporter": "python",
   "pygments_lexer": "ipython3",
   "version": "3.8.1"
  }
 },
 "nbformat": 4,
 "nbformat_minor": 4
}
