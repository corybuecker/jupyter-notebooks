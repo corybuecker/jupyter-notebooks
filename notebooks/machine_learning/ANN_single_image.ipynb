{
 "cells": [
  {
   "cell_type": "markdown",
   "metadata": {},
   "source": [
    "Single hidden layer with 2 outputs"
   ]
  },
  {
   "cell_type": "code",
   "execution_count": 2,
   "metadata": {},
   "outputs": [],
   "source": [
    "import cv2\n",
    "import numpy as np\n",
    "from scipy.special import expit as sigmoid"
   ]
  },
  {
   "cell_type": "code",
   "execution_count": 3,
   "metadata": {},
   "outputs": [
    {
     "data": {
      "text/plain": [
       "(1482, 1)"
      ]
     },
     "execution_count": 3,
     "metadata": {},
     "output_type": "execute_result"
    }
   ],
   "source": [
    "inputs_a = np.ndarray.flatten(cv2.bitwise_not(cv2.imread('2a.png',cv2.IMREAD_GRAYSCALE)))\n",
    "inputs_b = np.ndarray.flatten(cv2.bitwise_not(cv2.imread('2b.png',cv2.IMREAD_GRAYSCALE)))\n",
    "y = [[1], [0]]\n",
    "\n",
    "inputs_a = inputs_a[:, np.newaxis]\n",
    "inputs_a.shape"
   ]
  },
  {
   "cell_type": "code",
   "execution_count": 8,
   "metadata": {},
   "outputs": [],
   "source": [
    "layer1_weights = np.random.rand(10, inputs_a.shape[0])\n",
    "layer1_biases = np.random.rand(10)[:, np.newaxis]"
   ]
  },
  {
   "cell_type": "code",
   "execution_count": 9,
   "metadata": {},
   "outputs": [
    {
     "data": {
      "text/plain": [
       "(10, 1482)"
      ]
     },
     "execution_count": 9,
     "metadata": {},
     "output_type": "execute_result"
    }
   ],
   "source": [
    "layer1_weights.shape"
   ]
  },
  {
   "cell_type": "code",
   "execution_count": 10,
   "metadata": {},
   "outputs": [
    {
     "data": {
      "text/plain": [
       "array([[1.],\n",
       "       [1.],\n",
       "       [1.],\n",
       "       [1.],\n",
       "       [1.],\n",
       "       [1.],\n",
       "       [1.],\n",
       "       [1.],\n",
       "       [1.],\n",
       "       [1.]])"
      ]
     },
     "execution_count": 10,
     "metadata": {},
     "output_type": "execute_result"
    }
   ],
   "source": [
    "layer1 = sigmoid(np.add(np.dot(layer1_weights, inputs_a), layer1_biases))\n",
    "layer1"
   ]
  },
  {
   "cell_type": "code",
   "execution_count": 11,
   "metadata": {},
   "outputs": [
    {
     "data": {
      "text/plain": [
       "array([[0.40292783, 0.63381389, 0.29588163, 0.79022421, 0.03057389,\n",
       "        0.42282361, 0.56708132, 0.01829036, 0.28368031, 0.81103553],\n",
       "       [0.51079704, 0.52703752, 0.17797813, 0.16836748, 0.90523596,\n",
       "        0.7142708 , 0.30397768, 0.07130499, 0.23826369, 0.09394393]])"
      ]
     },
     "execution_count": 11,
     "metadata": {},
     "output_type": "execute_result"
    }
   ],
   "source": [
    "output_weights = np.random.rand(2, layer1.shape[0])\n",
    "output_biases = np.random.rand(2)[:, np.newaxis]\n",
    "output_weights"
   ]
  },
  {
   "cell_type": "code",
   "execution_count": 20,
   "metadata": {},
   "outputs": [
    {
     "data": {
      "text/plain": [
       "array([[0.40292783, 0.51079704],\n",
       "       [0.63381389, 0.52703752],\n",
       "       [0.29588163, 0.17797813],\n",
       "       [0.79022421, 0.16836748],\n",
       "       [0.03057389, 0.90523596],\n",
       "       [0.42282361, 0.7142708 ],\n",
       "       [0.56708132, 0.30397768],\n",
       "       [0.01829036, 0.07130499],\n",
       "       [0.28368031, 0.23826369],\n",
       "       [0.81103553, 0.09394393]])"
      ]
     },
     "execution_count": 20,
     "metadata": {},
     "output_type": "execute_result"
    }
   ],
   "source": [
    "output_weights.T"
   ]
  },
  {
   "cell_type": "code",
   "execution_count": 13,
   "metadata": {},
   "outputs": [
    {
     "data": {
      "text/plain": [
       "(10, 1)"
      ]
     },
     "execution_count": 13,
     "metadata": {},
     "output_type": "execute_result"
    }
   ],
   "source": [
    "output = sigmoid(np.add(np.dot(output_weights, layer1), output_biases))\n",
    "layer1.shape"
   ]
  },
  {
   "cell_type": "code",
   "execution_count": 14,
   "metadata": {},
   "outputs": [
    {
     "data": {
      "text/plain": [
       "array([[0.98839032],\n",
       "       [0.98863563]])"
      ]
     },
     "execution_count": 14,
     "metadata": {},
     "output_type": "execute_result"
    }
   ],
   "source": [
    "output"
   ]
  },
  {
   "cell_type": "code",
   "execution_count": 21,
   "metadata": {},
   "outputs": [],
   "source": [
    "d_output = np.dot(output_weights.T, 2 * (y - output) * (output - (1 - output)))"
   ]
  },
  {
   "cell_type": "code",
   "execution_count": 22,
   "metadata": {},
   "outputs": [
    {
     "data": {
      "text/plain": [
       "array([[-0.97789016],\n",
       "       [-1.00403558],\n",
       "       [-0.33720188],\n",
       "       [-0.30741914],\n",
       "       [-1.74852154],\n",
       "       [-1.37061744],\n",
       "       [-0.57452379],\n",
       "       [-0.13736998],\n",
       "       [-0.45397024],\n",
       "       [-0.16313624]])"
      ]
     },
     "execution_count": 22,
     "metadata": {},
     "output_type": "execute_result"
    }
   ],
   "source": [
    "d_output"
   ]
  },
  {
   "cell_type": "code",
   "execution_count": null,
   "metadata": {},
   "outputs": [],
   "source": [
    "y"
   ]
  },
  {
   "cell_type": "code",
   "execution_count": null,
   "metadata": {},
   "outputs": [],
   "source": []
  }
 ],
 "metadata": {
  "kernelspec": {
   "display_name": "Python 3",
   "language": "python",
   "name": "python3"
  },
  "language_info": {
   "codemirror_mode": {
    "name": "ipython",
    "version": 3
   },
   "file_extension": ".py",
   "mimetype": "text/x-python",
   "name": "python",
   "nbconvert_exporter": "python",
   "pygments_lexer": "ipython3",
   "version": "3.8.1"
  }
 },
 "nbformat": 4,
 "nbformat_minor": 4
}
