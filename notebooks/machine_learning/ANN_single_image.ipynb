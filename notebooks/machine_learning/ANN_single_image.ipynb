{
 "cells": [
  {
   "cell_type": "markdown",
   "metadata": {},
   "source": [
    "Single hidden layer with 2 outputs"
   ]
  },
  {
   "cell_type": "code",
   "execution_count": 92,
   "metadata": {},
   "outputs": [],
   "source": [
    "import cv2\n",
    "import numpy as np\n",
    "from scipy.special import expit as sigmoid"
   ]
  },
  {
   "cell_type": "code",
   "execution_count": 93,
   "metadata": {},
   "outputs": [],
   "source": [
    "inputs = np.ndarray.flatten(cv2.bitwise_not(cv2.imread('2.png',cv2.IMREAD_GRAYSCALE)))\n",
    "training_output = [1, 0]"
   ]
  },
  {
   "cell_type": "code",
   "execution_count": 94,
   "metadata": {},
   "outputs": [],
   "source": [
    "layer1_weights = np.random.rand(10, inputs.shape[0])\n",
    "layer1_biases = np.random.rand(10)"
   ]
  },
  {
   "cell_type": "code",
   "execution_count": 95,
   "metadata": {},
   "outputs": [
    {
     "data": {
      "text/plain": [
       "array([[0.61567501, 0.36728525, 0.71523829, ..., 0.74351983, 0.87589598,\n",
       "        0.41154832],\n",
       "       [0.61781065, 0.2062637 , 0.36579137, ..., 0.6635571 , 0.68775684,\n",
       "        0.75086666],\n",
       "       [0.27111431, 0.8192178 , 0.86362043, ..., 0.58693243, 0.1298015 ,\n",
       "        0.17746978],\n",
       "       ...,\n",
       "       [0.94002887, 0.42342587, 0.72488849, ..., 0.67590475, 0.51050169,\n",
       "        0.86962121],\n",
       "       [0.81566614, 0.91425128, 0.36420069, ..., 0.5530282 , 0.39911924,\n",
       "        0.01480422],\n",
       "       [0.48253461, 0.90922098, 0.78971871, ..., 0.2820059 , 0.23594412,\n",
       "        0.9319933 ]])"
      ]
     },
     "execution_count": 95,
     "metadata": {},
     "output_type": "execute_result"
    }
   ],
   "source": [
    "layer1_weights"
   ]
  },
  {
   "cell_type": "code",
   "execution_count": 96,
   "metadata": {},
   "outputs": [
    {
     "data": {
      "text/plain": [
       "array([0.71989823, 0.92608875, 0.34598535, 0.85202944, 0.34483113,\n",
       "       0.09432388, 0.22428814, 0.25318009, 0.2055813 , 0.86390021])"
      ]
     },
     "execution_count": 96,
     "metadata": {},
     "output_type": "execute_result"
    }
   ],
   "source": [
    "layer1_biases"
   ]
  },
  {
   "cell_type": "code",
   "execution_count": 97,
   "metadata": {},
   "outputs": [
    {
     "data": {
      "text/plain": [
       "array([1., 1., 1., 1., 1., 1., 1., 1., 1., 1.])"
      ]
     },
     "execution_count": 97,
     "metadata": {},
     "output_type": "execute_result"
    }
   ],
   "source": [
    "layer1 = sigmoid(np.add(np.dot(layer1_weights, inputs), layer1_biases))\n",
    "layer1"
   ]
  },
  {
   "cell_type": "code",
   "execution_count": 98,
   "metadata": {},
   "outputs": [
    {
     "data": {
      "text/plain": [
       "array([[0.72526207, 0.953747  , 0.61280603, 0.35118269, 0.90487891,\n",
       "        0.10392804, 0.28267184, 0.40621033, 0.99221809, 0.30445483],\n",
       "       [0.34763538, 0.55514676, 0.39346843, 0.3488914 , 0.9957498 ,\n",
       "        0.72143666, 0.54444321, 0.52819894, 0.90583924, 0.63118954]])"
      ]
     },
     "execution_count": 98,
     "metadata": {},
     "output_type": "execute_result"
    }
   ],
   "source": [
    "output_weights = np.random.rand(2, layer1.shape[0])\n",
    "output_biases = np.random.rand(2)\n",
    "output_weights"
   ]
  },
  {
   "cell_type": "code",
   "execution_count": 99,
   "metadata": {},
   "outputs": [
    {
     "data": {
      "text/plain": [
       "array([0.86508058, 0.83312104])"
      ]
     },
     "execution_count": 99,
     "metadata": {},
     "output_type": "execute_result"
    }
   ],
   "source": [
    "output_biases"
   ]
  },
  {
   "cell_type": "code",
   "execution_count": 108,
   "metadata": {},
   "outputs": [
    {
     "data": {
      "text/plain": [
       "array([0.99850247, 0.99889314])"
      ]
     },
     "execution_count": 108,
     "metadata": {},
     "output_type": "execute_result"
    }
   ],
   "source": [
    "output = sigmoid(np.add(np.dot(output_weights, layer1), output_biases))\n",
    "output"
   ]
  },
  {
   "cell_type": "code",
   "execution_count": 110,
   "metadata": {},
   "outputs": [
    {
     "data": {
      "text/plain": [
       "0.9986978055296143"
      ]
     },
     "execution_count": 110,
     "metadata": {},
     "output_type": "execute_result"
    }
   ],
   "source": [
    "mean = output.mean()\n",
    "mean"
   ]
  },
  {
   "cell_type": "code",
   "execution_count": 113,
   "metadata": {},
   "outputs": [
    {
     "data": {
      "text/plain": [
       "7.631090894847716e-08"
      ]
     },
     "execution_count": 113,
     "metadata": {},
     "output_type": "execute_result"
    }
   ],
   "source": [
    "cost = np.sum((output - mean)**2)\n",
    "cost"
   ]
  },
  {
   "cell_type": "code",
   "execution_count": null,
   "metadata": {},
   "outputs": [],
   "source": []
  }
 ],
 "metadata": {
  "kernelspec": {
   "display_name": "Python 3",
   "language": "python",
   "name": "python3"
  },
  "language_info": {
   "codemirror_mode": {
    "name": "ipython",
    "version": 3
   },
   "file_extension": ".py",
   "mimetype": "text/x-python",
   "name": "python",
   "nbconvert_exporter": "python",
   "pygments_lexer": "ipython3",
   "version": "3.8.1"
  }
 },
 "nbformat": 4,
 "nbformat_minor": 4
}
